{
 "cells": [
  {
   "cell_type": "code",
   "execution_count": 1,
   "metadata": {},
   "outputs": [],
   "source": [
    "from datetime import datetime\n",
    "from IPython.display import display, Markdown\n",
    "import pandas as pd\n",
    "import numpy as np\n",
    "import os\n",
    "pd.set_option(\"display.max_rows\", 200)\n",
    "pd.options.display.float_format = \"{:,.1f}\".format\n",
    "float_formatter = \"{:,.0f}\".format\n",
    "from utilities import *"
   ]
  },
  {
   "cell_type": "code",
   "execution_count": 2,
   "metadata": {},
   "outputs": [
    {
     "name": "stdout",
     "output_type": "stream",
     "text": [
      "c:\\Users\\higginsr\\Documents\\GitHub\\asthma_indicators_qof\\output\\joined\\summary\\measure_ast007.csv\n"
     ]
    }
   ],
   "source": [
    "print(os.path.join(\n",
    "        OUTPUT_DIR, 'joined', 'summary', f'measure_ast007.csv'))\n",
    "\n",
    "df = pd.read_csv(os.path.join(OUTPUT_DIR, 'joined', 'summary', f'measure_ast007.csv'))"
   ]
  },
  {
   "cell_type": "code",
   "execution_count": 3,
   "metadata": {},
   "outputs": [],
   "source": [
    "# Update labels for IMD\n",
    "df.loc[(df[\"category\"]==\"imd\") & (df[\"group\"]=='1'),\"group\"]='1 - Most deprived'\n",
    "df.loc[(df[\"category\"]==\"imd\") & (df[\"group\"]=='5'),\"group\"]='5 - Least deprived'\n",
    "df.loc[(df[\"category\"]==\"imd\") & (df[\"group\"]=='missing'),\"group\"]='(Missing)'\n",
    "\n",
    "# Update care_home flags\n",
    "df.loc[(df[\"category\"]==\"care_home\") & (df[\"group\"]=='1'),\"group\"]='Yes'\n",
    "df.loc[(df[\"category\"]==\"care_home\") & (df[\"group\"]=='0'),\"group\"]='No'\n",
    "\n",
    "# Update learning_disability flags\n",
    "df.loc[(df[\"category\"]==\"learning_disability\") & (df[\"group\"]=='1'),\"group\"]='Yes'\n",
    "df.loc[(df[\"category\"]==\"learning_disability\") & (df[\"group\"]=='0'),\"group\"]='No'\n",
    "\n",
    "# Update sex flags\n",
    "df.loc[(df[\"category\"]==\"sex\") & (df[\"group\"]=='F'),\"group\"]='Female'\n",
    "df.loc[(df[\"category\"]==\"sex\") & (df[\"group\"]=='M'),\"group\"]='Male'\n",
    "\n",
    "# Update ethnicity flags\n",
    "df.loc[(df[\"category\"]==\"sex\") & (df[\"group\"]==''),\"group\"]='Unknown'"
   ]
  },
  {
   "cell_type": "code",
   "execution_count": 4,
   "metadata": {},
   "outputs": [],
   "source": [
    "df2 = pd.pivot_table(df[df.date == '2022-03-01'],index=['category','group'],values=['numerator','denominator', 'value'])\n",
    "df2 = df2[['numerator','denominator','value']]"
   ]
  },
  {
   "cell_type": "code",
   "execution_count": 5,
   "metadata": {},
   "outputs": [],
   "source": [
    "# Update order of categories in the table\n",
    "df3 = df2.loc[['population','sex','age_band','ethnicity','imd','region','care_home','learning_disability']]\n",
    "# Udpdate names of rows and columns\n",
    "df4 = df3.rename(columns={'numerator':'Numerator','denominator':'Denominator','value':'Percentage'}\n",
    "        , index={'population':'Population','sex':'Sex','age_band':'Age band','ethnicity':'Ethnicity'\n",
    "            ,'imd':'IMD','region':'Region','care_home':'Care home status','learning_disability':'Record of learning disability'\n",
    "            ,'F':'Female','M':'Male'})\n",
    "# Remove multi index labels \n",
    "df4.index.names = [None,None]"
   ]
  },
  {
   "cell_type": "code",
   "execution_count": 6,
   "metadata": {},
   "outputs": [],
   "source": [
    "# Change all NULL values from NaN to '-'\n",
    "df5 = df4.style.format({'Denominator': \"{:,.0f}\".format\n",
    "    , 'Numerator': \"{:,.0f}\".format\n",
    "    , 'Percentage':\"{0:.2%}\".format}, na_rep=\"-\")\n"
   ]
  },
  {
   "cell_type": "code",
   "execution_count": 8,
   "metadata": {},
   "outputs": [],
   "source": [
    "#write table to an excel file (to maintain formatting), and add in percentage formatting\n",
    "writer = pd.ExcelWriter(os.path.join(OUTPUT_DIR,\"joined\",\"summary\",\"table_1.xlsx\"),engine='xlsxwriter')\n",
    "df5.to_excel(writer, sheet_name='Sheet1')\n",
    "\n",
    "workbook = writer.book\n",
    "worksheet = writer.sheets['Sheet1']\n",
    "\n",
    "percent_format = workbook.add_format({'num_format':'0.00%'})\n",
    "text_wrap = workbook.add_format()\n",
    "text_wrap.set_text_wrap()\n",
    "\n",
    "\n",
    "worksheet.set_column(4,4,11,percent_format)\n",
    "worksheet.set_column(2,4,11)\n",
    "worksheet.set_column(0,1,23)\n",
    "\n",
    "writer.save()"
   ]
  }
 ],
 "metadata": {
  "interpreter": {
   "hash": "c50e7aa2b93c9782f8ca6f4350f28ac3e953f6a7a9ae9b5fbf6f5bc21c843ac0"
  },
  "kernelspec": {
   "display_name": "Python 3.9.7 ('base')",
   "language": "python",
   "name": "python3"
  },
  "language_info": {
   "codemirror_mode": {
    "name": "ipython",
    "version": 3
   },
   "file_extension": ".py",
   "mimetype": "text/x-python",
   "name": "python",
   "nbconvert_exporter": "python",
   "pygments_lexer": "ipython3",
   "version": "3.9.7"
  },
  "orig_nbformat": 4
 },
 "nbformat": 4,
 "nbformat_minor": 2
}
